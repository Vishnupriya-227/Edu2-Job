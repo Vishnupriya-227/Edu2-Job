{
 "cells": [
  {
   "cell_type": "code",
   "execution_count": 8,
   "id": "6e0acb6e",
   "metadata": {},
   "outputs": [],
   "source": [
    "import os\n",
    "import pandas as pd\n",
    "import numpy as np\n",
    "from sklearn.model_selection import train_test_split, cross_val_score\n",
    "from sklearn.preprocessing import LabelEncoder, StandardScaler\n",
    "from sklearn.feature_extraction.text import TfidfVectorizer\n",
    "from sklearn.metrics import accuracy_score, classification_report, top_k_accuracy_score\n",
    "from sklearn.ensemble import RandomForestClassifier\n",
    "from imblearn.over_sampling import SMOTE\n",
    "from scipy.sparse import hstack\n",
    "import joblib\n"
   ]
  },
  {
   "cell_type": "code",
   "execution_count": 9,
   "id": "4994f593",
   "metadata": {},
   "outputs": [
    {
     "name": "stdout",
     "output_type": "stream",
     "text": [
      "✅ Dataset loaded: (1000, 9)\n"
     ]
    },
    {
     "data": {
      "text/html": [
       "<div>\n",
       "<style scoped>\n",
       "    .dataframe tbody tr th:only-of-type {\n",
       "        vertical-align: middle;\n",
       "    }\n",
       "\n",
       "    .dataframe tbody tr th {\n",
       "        vertical-align: top;\n",
       "    }\n",
       "\n",
       "    .dataframe thead th {\n",
       "        text-align: right;\n",
       "    }\n",
       "</style>\n",
       "<table border=\"1\" class=\"dataframe\">\n",
       "  <thead>\n",
       "    <tr style=\"text-align: right;\">\n",
       "      <th></th>\n",
       "      <th>degree</th>\n",
       "      <th>major</th>\n",
       "      <th>cgpa</th>\n",
       "      <th>employed</th>\n",
       "      <th>experience</th>\n",
       "      <th>skills</th>\n",
       "      <th>certifications</th>\n",
       "      <th>industry preference</th>\n",
       "      <th>job role</th>\n",
       "    </tr>\n",
       "  </thead>\n",
       "  <tbody>\n",
       "    <tr>\n",
       "      <th>0</th>\n",
       "      <td>MBA</td>\n",
       "      <td>Mechanical</td>\n",
       "      <td>6.06</td>\n",
       "      <td>yes</td>\n",
       "      <td>7</td>\n",
       "      <td>SolidWorks, Thermodynamics</td>\n",
       "      <td>Data Science Certificate</td>\n",
       "      <td>Finance</td>\n",
       "      <td>Design Engineer</td>\n",
       "    </tr>\n",
       "    <tr>\n",
       "      <th>1</th>\n",
       "      <td>B.Tech</td>\n",
       "      <td>Mechanical</td>\n",
       "      <td>7.21</td>\n",
       "      <td>yes</td>\n",
       "      <td>5</td>\n",
       "      <td>Thermodynamics, MATLAB, AutoCAD, SolidWorks</td>\n",
       "      <td>NaN</td>\n",
       "      <td>Research</td>\n",
       "      <td>Manufacturing Engineer</td>\n",
       "    </tr>\n",
       "    <tr>\n",
       "      <th>2</th>\n",
       "      <td>MBA</td>\n",
       "      <td>Economics</td>\n",
       "      <td>6.66</td>\n",
       "      <td>no</td>\n",
       "      <td>7</td>\n",
       "      <td>Data Analysis, R, Econometrics, Python, Statis...</td>\n",
       "      <td>PMP</td>\n",
       "      <td>IT</td>\n",
       "      <td>Business Analyst</td>\n",
       "    </tr>\n",
       "    <tr>\n",
       "      <th>3</th>\n",
       "      <td>MBA</td>\n",
       "      <td>Finance</td>\n",
       "      <td>6.95</td>\n",
       "      <td>no</td>\n",
       "      <td>9</td>\n",
       "      <td>Financial Modeling, Excel, Risk Analysis</td>\n",
       "      <td>Six Sigma</td>\n",
       "      <td>Manufacturing</td>\n",
       "      <td>Investment Banker</td>\n",
       "    </tr>\n",
       "    <tr>\n",
       "      <th>4</th>\n",
       "      <td>M.Tech</td>\n",
       "      <td>Computer Science</td>\n",
       "      <td>7.15</td>\n",
       "      <td>no</td>\n",
       "      <td>4</td>\n",
       "      <td>Java, Machine Learning, Python, C++</td>\n",
       "      <td>Data Science Certificate</td>\n",
       "      <td>Manufacturing</td>\n",
       "      <td>Backend Developer</td>\n",
       "    </tr>\n",
       "  </tbody>\n",
       "</table>\n",
       "</div>"
      ],
      "text/plain": [
       "   degree             major  cgpa employed  experience  \\\n",
       "0     MBA        Mechanical  6.06      yes           7   \n",
       "1  B.Tech        Mechanical  7.21      yes           5   \n",
       "2     MBA         Economics  6.66       no           7   \n",
       "3     MBA           Finance  6.95       no           9   \n",
       "4  M.Tech  Computer Science  7.15       no           4   \n",
       "\n",
       "                                              skills  \\\n",
       "0                         SolidWorks, Thermodynamics   \n",
       "1        Thermodynamics, MATLAB, AutoCAD, SolidWorks   \n",
       "2  Data Analysis, R, Econometrics, Python, Statis...   \n",
       "3           Financial Modeling, Excel, Risk Analysis   \n",
       "4                Java, Machine Learning, Python, C++   \n",
       "\n",
       "             certifications industry preference                job role  \n",
       "0  Data Science Certificate             Finance         Design Engineer  \n",
       "1                       NaN            Research  Manufacturing Engineer  \n",
       "2                       PMP                  IT        Business Analyst  \n",
       "3                 Six Sigma       Manufacturing       Investment Banker  \n",
       "4  Data Science Certificate       Manufacturing       Backend Developer  "
      ]
     },
     "execution_count": 9,
     "metadata": {},
     "output_type": "execute_result"
    }
   ],
   "source": [
    "# Paths\n",
    "BASE_DIR = os.getcwd()\n",
    "DATA_PATH = os.path.join(BASE_DIR, \"backend\", \"Dataset.csv\")\n",
    "ARTIFACTS_DIR = os.path.join(BASE_DIR, \"backend\", \"artifacts\")\n",
    "os.makedirs(ARTIFACTS_DIR, exist_ok=True)\n",
    "\n",
    "# Load dataset\n",
    "df = pd.read_csv(DATA_PATH)\n",
    "df.columns = df.columns.str.strip().str.lower()\n",
    "print(\"✅ Dataset loaded:\", df.shape)\n",
    "df.head()\n"
   ]
  },
  {
   "cell_type": "code",
   "execution_count": 10,
   "id": "e4f312be",
   "metadata": {},
   "outputs": [
    {
     "name": "stdout",
     "output_type": "stream",
     "text": [
      "✅ Missing values handled\n"
     ]
    }
   ],
   "source": [
    "df['certifications'] = df['certifications'].fillna(\"None\")\n",
    "df['skills'] = df['skills'].fillna(\"None\")\n",
    "df['degree'] = df['degree'].fillna(\"Unknown\")\n",
    "df['major'] = df['major'].fillna(\"Unknown\")\n",
    "df['cgpa'] = df['cgpa'].fillna(df['cgpa'].mean())\n",
    "df['experience'] = df['experience'].fillna(0)\n",
    "print(\"✅ Missing values handled\")\n"
   ]
  },
  {
   "cell_type": "code",
   "execution_count": 11,
   "id": "e1d7e577",
   "metadata": {},
   "outputs": [
    {
     "name": "stdout",
     "output_type": "stream",
     "text": [
      "<class 'pandas.core.frame.DataFrame'>\n",
      "RangeIndex: 1000 entries, 0 to 999\n",
      "Data columns (total 9 columns):\n",
      " #   Column               Non-Null Count  Dtype  \n",
      "---  ------               --------------  -----  \n",
      " 0   degree               1000 non-null   object \n",
      " 1   major                1000 non-null   object \n",
      " 2   cgpa                 1000 non-null   float64\n",
      " 3   employed             1000 non-null   object \n",
      " 4   experience           1000 non-null   int64  \n",
      " 5   skills               1000 non-null   object \n",
      " 6   certifications       1000 non-null   object \n",
      " 7   industry preference  1000 non-null   object \n",
      " 8   job role             1000 non-null   object \n",
      "dtypes: float64(1), int64(1), object(7)\n",
      "memory usage: 70.4+ KB\n"
     ]
    },
    {
     "data": {
      "text/plain": [
       "degree                 0\n",
       "major                  0\n",
       "cgpa                   0\n",
       "employed               0\n",
       "experience             0\n",
       "skills                 0\n",
       "certifications         0\n",
       "industry preference    0\n",
       "job role               0\n",
       "dtype: int64"
      ]
     },
     "execution_count": 11,
     "metadata": {},
     "output_type": "execute_result"
    }
   ],
   "source": [
    "df.info()\n",
    "df.isnull().sum()\n"
   ]
  },
  {
   "cell_type": "code",
   "execution_count": 12,
   "id": "278f2545",
   "metadata": {},
   "outputs": [
    {
     "name": "stdout",
     "output_type": "stream",
     "text": [
      "✅ Text normalized\n"
     ]
    }
   ],
   "source": [
    "for col in [\"degree\", \"major\", \"skills\", \"certifications\"]:\n",
    "    df[col] = df[col].astype(str).str.lower().str.strip()\n",
    "print(\"✅ Text normalized\")\n"
   ]
  },
  {
   "cell_type": "code",
   "execution_count": 13,
   "id": "b0671c8e",
   "metadata": {},
   "outputs": [
    {
     "name": "stdout",
     "output_type": "stream",
     "text": [
      "✅ Derived features created\n"
     ]
    }
   ],
   "source": [
    "df[\"num_skills\"] = df[\"skills\"].apply(lambda x: 0 if x==\"none\" else len([s.strip() for s in x.split(\",\") if s.strip()]))\n",
    "df[\"num_certs\"] = df[\"certifications\"].apply(lambda x: 0 if x==\"none\" else len([c.strip() for c in x.split(\",\") if c.strip()]))\n",
    "df[\"cgpa_x_exp\"] = df[\"cgpa\"] * df[\"experience\"]\n",
    "df[\"skills_x_certs\"] = df[\"num_skills\"] * df[\"num_certs\"]\n",
    "print(\"✅ Derived features created\")\n"
   ]
  },
  {
   "cell_type": "code",
   "execution_count": 14,
   "id": "1f05855e",
   "metadata": {},
   "outputs": [
    {
     "name": "stdout",
     "output_type": "stream",
     "text": [
      "✅ Profile text created\n",
      "✅ Feature matrix shape: (1000, 767)\n"
     ]
    }
   ],
   "source": [
    "# Profile text\n",
    "df[\"profile_text\"] = df[\"degree\"] + \" \" + df[\"major\"] + \" \" + df[\"skills\"] + \" \" + df[\"certifications\"]\n",
    "print(\"✅ Profile text created\")\n",
    "\n",
    "# TF-IDF\n",
    "vectorizer = TfidfVectorizer(max_features=15000, ngram_range=(1,3), min_df=1)\n",
    "X_text = vectorizer.fit_transform(df[\"profile_text\"])\n",
    "\n",
    "# Numeric features\n",
    "numeric_features = df[[\"cgpa\", \"experience\", \"num_skills\", \"num_certs\", \"cgpa_x_exp\", \"skills_x_certs\"]].values\n",
    "scaler = StandardScaler()\n",
    "numeric_features = scaler.fit_transform(numeric_features)\n",
    "\n",
    "# Combine text + numeric\n",
    "X = hstack([X_text, numeric_features])\n",
    "print(\"✅ Feature matrix shape:\", X.shape)\n"
   ]
  },
  {
   "cell_type": "code",
   "execution_count": 15,
   "id": "87f44473",
   "metadata": {},
   "outputs": [
    {
     "name": "stdout",
     "output_type": "stream",
     "text": [
      "Classes: ['Accountant' 'Backend Developer' 'Business Analyst' 'Data Analyst'\n",
      " 'Data Scientist' 'Design Engineer' 'Economist' 'Electrical Engineer'\n",
      " 'Electronics Engineer' 'Embedded Systems Engineer' 'Financial Analyst'\n",
      " 'Investment Banker' 'Manufacturing Engineer' 'Mechanical Engineer'\n",
      " 'Software Engineer']\n"
     ]
    }
   ],
   "source": [
    "label_encoder = LabelEncoder()\n",
    "y = label_encoder.fit_transform(df[\"job role\"])\n",
    "print(\"Classes:\", label_encoder.classes_)\n"
   ]
  },
  {
   "cell_type": "code",
   "execution_count": 16,
   "id": "8d888434",
   "metadata": {},
   "outputs": [
    {
     "name": "stdout",
     "output_type": "stream",
     "text": [
      "Train: (800, 767) Test: (200, 767)\n"
     ]
    }
   ],
   "source": [
    "X_train, X_test, y_train, y_test = train_test_split(\n",
    "    X, y, test_size=0.2, random_state=42, stratify=y\n",
    ")\n",
    "print(\"Train:\", X_train.shape, \"Test:\", X_test.shape)\n"
   ]
  },
  {
   "cell_type": "code",
   "execution_count": 17,
   "id": "2497ef01",
   "metadata": {},
   "outputs": [
    {
     "name": "stdout",
     "output_type": "stream",
     "text": [
      "✅ After SMOTE: (1050, 767)\n"
     ]
    }
   ],
   "source": [
    "smote = SMOTE(random_state=42)\n",
    "X_train_res, y_train_res = smote.fit_resample(X_train, y_train)\n",
    "print(\"✅ After SMOTE:\", X_train_res.shape)\n"
   ]
  },
  {
   "cell_type": "code",
   "execution_count": 18,
   "id": "55e90ab4",
   "metadata": {},
   "outputs": [
    {
     "name": "stdout",
     "output_type": "stream",
     "text": [
      "✅ Model trained\n"
     ]
    }
   ],
   "source": [
    "model = RandomForestClassifier(\n",
    "    n_estimators=1200,\n",
    "    max_depth=50,\n",
    "    min_samples_split=2,\n",
    "    min_samples_leaf=1,\n",
    "    max_features=\"sqrt\",\n",
    "    class_weight=\"balanced_subsample\",\n",
    "    n_jobs=-1,\n",
    "    random_state=42\n",
    ")\n",
    "model.fit(X_train_res, y_train_res)\n",
    "print(\"✅ Model trained\")\n"
   ]
  },
  {
   "cell_type": "code",
   "execution_count": 19,
   "id": "a9f5062b",
   "metadata": {},
   "outputs": [
    {
     "name": "stdout",
     "output_type": "stream",
     "text": [
      "\n",
      "📊 Evaluation Results:\n",
      "Top-1 Accuracy: 0.86\n",
      "Top-3 Accuracy: 1.0\n",
      "\n",
      "Classification Report:\n",
      "                            precision    recall  f1-score   support\n",
      "\n",
      "               Accountant       0.86      0.86      0.86        14\n",
      "        Backend Developer       1.00      0.86      0.92        14\n",
      "         Business Analyst       0.67      0.80      0.73        10\n",
      "             Data Analyst       1.00      1.00      1.00        13\n",
      "           Data Scientist       1.00      1.00      1.00        10\n",
      "          Design Engineer       0.79      0.88      0.83        17\n",
      "                Economist       0.82      0.69      0.75        13\n",
      "      Electrical Engineer       0.73      0.85      0.79        13\n",
      "     Electronics Engineer       0.86      0.75      0.80        16\n",
      "Embedded Systems Engineer       1.00      1.00      1.00        11\n",
      "        Financial Analyst       0.78      0.78      0.78        18\n",
      "        Investment Banker       0.86      0.86      0.86        14\n",
      "   Manufacturing Engineer       0.83      0.83      0.83        12\n",
      "      Mechanical Engineer       1.00      0.83      0.91        12\n",
      "        Software Engineer       0.87      1.00      0.93        13\n",
      "\n",
      "                 accuracy                           0.86       200\n",
      "                macro avg       0.87      0.87      0.87       200\n",
      "             weighted avg       0.87      0.86      0.86       200\n",
      "\n",
      "Cross-validation mean accuracy: 1.0\n"
     ]
    }
   ],
   "source": [
    "y_pred = model.predict(X_test)\n",
    "y_proba = model.predict_proba(X_test)\n",
    "\n",
    "print(\"\\n📊 Evaluation Results:\")\n",
    "print(\"Top-1 Accuracy:\", accuracy_score(y_test, y_pred))\n",
    "print(\"Top-3 Accuracy:\", top_k_accuracy_score(y_test, y_proba, k=3))\n",
    "print(\"\\nClassification Report:\\n\", classification_report(y_test, y_pred, target_names=label_encoder.classes_))\n",
    "\n",
    "# Cross-validation\n",
    "scores = cross_val_score(model, X, y, cv=5, scoring=\"accuracy\", n_jobs=-1)\n",
    "print(\"Cross-validation mean accuracy:\", scores.mean())\n"
   ]
  },
  {
   "cell_type": "code",
   "execution_count": 20,
   "id": "12b1ae38",
   "metadata": {},
   "outputs": [
    {
     "name": "stdout",
     "output_type": "stream",
     "text": [
      "✅ All artifacts saved in: c:\\Users\\Administrator\\OneDrive\\Desktop\\edu2-predicting-job-role\\backend\\artifacts\n"
     ]
    }
   ],
   "source": [
    "joblib.dump(model, os.path.join(ARTIFACTS_DIR, \"job_role_model.pkl\"))\n",
    "joblib.dump(vectorizer, os.path.join(ARTIFACTS_DIR, \"vectorizer.pkl\"))\n",
    "joblib.dump(scaler, os.path.join(ARTIFACTS_DIR, \"scaler.pkl\"))\n",
    "joblib.dump(label_encoder, os.path.join(ARTIFACTS_DIR, \"label_encoder.pkl\"))\n",
    "print(\"✅ All artifacts saved in:\", ARTIFACTS_DIR)\n"
   ]
  }
 ],
 "metadata": {
  "kernelspec": {
   "display_name": ".venv",
   "language": "python",
   "name": "python3"
  },
  "language_info": {
   "codemirror_mode": {
    "name": "ipython",
    "version": 3
   },
   "file_extension": ".py",
   "mimetype": "text/x-python",
   "name": "python",
   "nbconvert_exporter": "python",
   "pygments_lexer": "ipython3",
   "version": "3.11.9"
  }
 },
 "nbformat": 4,
 "nbformat_minor": 5
}
